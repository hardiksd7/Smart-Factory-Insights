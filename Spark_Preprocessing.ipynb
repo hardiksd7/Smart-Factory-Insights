{
  "nbformat": 4,
  "nbformat_minor": 0,
  "metadata": {
    "colab": {
      "provenance": []
    },
    "kernelspec": {
      "name": "python3",
      "display_name": "Python 3"
    },
    "language_info": {
      "name": "python"
    }
  },
  "cells": [
    {
      "cell_type": "code",
      "execution_count": null,
      "metadata": {
        "colab": {
          "base_uri": "https://localhost:8080/",
          "height": 621
        },
        "id": "ei4Y-iBet8km",
        "outputId": "15c65087-f2ba-4373-be9d-c4f93ed6d220"
      },
      "outputs": [
        {
          "output_type": "stream",
          "name": "stdout",
          "text": [
            "\u001b[33m\r0% [Working]\u001b[0m\r            \rHit:1 http://archive.ubuntu.com/ubuntu jammy InRelease\n",
            "\u001b[33m\r0% [Waiting for headers] [Connecting to security.ubuntu.com (185.125.190.82)] [\u001b[0m\r                                                                               \rGet:2 http://archive.ubuntu.com/ubuntu jammy-updates InRelease [128 kB]\n",
            "Get:3 https://cloud.r-project.org/bin/linux/ubuntu jammy-cran40/ InRelease [3,632 B]\n",
            "Get:4 https://developer.download.nvidia.com/compute/cuda/repos/ubuntu2204/x86_64  InRelease [1,581 B]\n",
            "Get:5 http://security.ubuntu.com/ubuntu jammy-security InRelease [129 kB]\n",
            "Hit:6 https://r2u.stat.illinois.edu/ubuntu jammy InRelease\n",
            "Get:7 http://archive.ubuntu.com/ubuntu jammy-backports InRelease [127 kB]\n",
            "Hit:8 https://ppa.launchpadcontent.net/deadsnakes/ppa/ubuntu jammy InRelease\n",
            "Get:9 https://developer.download.nvidia.com/compute/cuda/repos/ubuntu2204/x86_64  Packages [1,918 kB]\n",
            "Hit:10 https://ppa.launchpadcontent.net/graphics-drivers/ppa/ubuntu jammy InRelease\n",
            "Hit:11 https://ppa.launchpadcontent.net/ubuntugis/ppa/ubuntu jammy InRelease\n",
            "Fetched 2,307 kB in 2s (1,464 kB/s)\n",
            "Reading package lists... Done\n",
            "Building dependency tree... Done\n",
            "Reading state information... Done\n",
            "35 packages can be upgraded. Run 'apt list --upgradable' to see them.\n",
            "\u001b[1;33mW: \u001b[0mSkipping acquire of configured file 'main/source/Sources' as repository 'https://r2u.stat.illinois.edu/ubuntu jammy InRelease' does not seem to provide it (sources.list entry misspelt?)\u001b[0m\n",
            "tar: spark-3.2.1-bin-hadoop3.2.tgz: Cannot open: No such file or directory\n",
            "tar: Error is not recoverable: exiting now\n",
            "Requirement already satisfied: pyspark in /usr/local/lib/python3.11/dist-packages (3.5.1)\n",
            "Requirement already satisfied: py4j==0.10.9.7 in /usr/local/lib/python3.11/dist-packages (from pyspark) (0.10.9.7)\n",
            "Requirement already satisfied: py4j in /usr/local/lib/python3.11/dist-packages (0.10.9.7)\n"
          ]
        },
        {
          "output_type": "execute_result",
          "data": {
            "text/plain": [
              "<pyspark.sql.session.SparkSession at 0x7a2ed3fc35d0>"
            ],
            "text/html": [
              "\n",
              "            <div>\n",
              "                <p><b>SparkSession - in-memory</b></p>\n",
              "                \n",
              "        <div>\n",
              "            <p><b>SparkContext</b></p>\n",
              "\n",
              "            <p><a href=\"http://20e2218772e5:4040\">Spark UI</a></p>\n",
              "\n",
              "            <dl>\n",
              "              <dt>Version</dt>\n",
              "                <dd><code>v3.5.1</code></dd>\n",
              "              <dt>Master</dt>\n",
              "                <dd><code>local[*]</code></dd>\n",
              "              <dt>AppName</dt>\n",
              "                <dd><code>Our First Spark Example</code></dd>\n",
              "            </dl>\n",
              "        </div>\n",
              "        \n",
              "            </div>\n",
              "        "
            ]
          },
          "metadata": {},
          "execution_count": 1
        }
      ],
      "source": [
        "# Downloading all dependencies and starting spark session\n",
        "!sudo apt update\n",
        "!apt-get install openjdk-8-jdk-headless -qq > /dev/null\n",
        "!wget -q https://dlcdn.apache.org/spark/spark-3.2.1/spark-3.2.1-bin-hadoop3.2.tgz\n",
        "!tar xf spark-3.2.1-bin-hadoop3.2.tgz\n",
        "!pip install -q findspark\n",
        "!pip install pyspark\n",
        "!pip install py4j\n",
        "\n",
        "import os\n",
        "import sys\n",
        "import findspark\n",
        "findspark.init()\n",
        "findspark.find()\n",
        "\n",
        "import pyspark\n",
        "from pyspark.sql import DataFrame, SparkSession\n",
        "from typing import List\n",
        "import pyspark.sql.types as T\n",
        "import pyspark.sql.functions as F\n",
        "\n",
        "spark= SparkSession \\\n",
        "       .builder \\\n",
        "       .appName(\"Our First Spark Example\") \\\n",
        "       .getOrCreate()\n",
        "\n",
        "spark"
      ]
    },
    {
      "cell_type": "code",
      "source": [
        "from google.colab import drive\n",
        "drive.mount('/content/drive')"
      ],
      "metadata": {
        "colab": {
          "base_uri": "https://localhost:8080/"
        },
        "id": "jRFEtUfpt_c9",
        "outputId": "e6d6ee0e-9093-47c0-f51b-cdf1d0ee97b4"
      },
      "execution_count": null,
      "outputs": [
        {
          "output_type": "stream",
          "name": "stdout",
          "text": [
            "Mounted at /content/drive\n"
          ]
        }
      ]
    },
    {
      "cell_type": "code",
      "source": [
        "!unzip '/content/drive/MyDrive/CDAC Project/archive.zip' -d '/content/unzipped_data'"
      ],
      "metadata": {
        "colab": {
          "base_uri": "https://localhost:8080/"
        },
        "id": "cr2dBRgAuCmE",
        "outputId": "09ef8638-267d-445b-c8f8-c22447d3653b"
      },
      "execution_count": null,
      "outputs": [
        {
          "output_type": "stream",
          "name": "stdout",
          "text": [
            "Archive:  /content/drive/MyDrive/CDAC Project/archive.zip\n",
            "  inflating: /content/unzipped_data/factory_sensor_simulator_2040.csv  \n"
          ]
        }
      ]
    },
    {
      "cell_type": "code",
      "source": [
        "df = spark.read.csv('/content/unzipped_data/factory_sensor_simulator_2040.csv', header=True, inferSchema=True)"
      ],
      "metadata": {
        "id": "SmM6W_s4uFQE"
      },
      "execution_count": null,
      "outputs": []
    },
    {
      "cell_type": "code",
      "source": [
        "df.show()"
      ],
      "metadata": {
        "colab": {
          "base_uri": "https://localhost:8080/"
        },
        "id": "32u7yHGyuISl",
        "outputId": "1f85ac30-5b4c-4fff-c96a-8848dffcd353"
      },
      "execution_count": null,
      "outputs": [
        {
          "output_type": "stream",
          "name": "stdout",
          "text": [
            "+----------+--------------------+-----------------+-----------------+-------------+-------------+--------+-------------+-----------------+--------------------+-------------------------+-------------------------+---------------------+--------------+------------------------+--------------------------+---------------------+---------------+----------------------+------------------+----------+------------------+\n",
            "|Machine_ID|        Machine_Type|Installation_Year|Operational_Hours|Temperature_C|Vibration_mms|Sound_dB|Oil_Level_pct|Coolant_Level_pct|Power_Consumption_kW|Last_Maintenance_Days_Ago|Maintenance_History_Count|Failure_History_Count|AI_Supervision|Error_Codes_Last_30_Days|Remaining_Useful_Life_days|Failure_Within_7_Days|Laser_Intensity|Hydraulic_Pressure_bar|Coolant_Flow_L_min|Heat_Index|AI_Override_Events|\n",
            "+----------+--------------------+-----------------+-----------------+-------------+-------------+--------+-------------+-----------------+--------------------+-------------------------+-------------------------+---------------------+--------------+------------------------+--------------------------+---------------------+---------------+----------------------+------------------+----------+------------------+\n",
            "| MC_000000|               Mixer|             2027|            81769|        73.43|        12.78|   83.72|        36.76|            68.74|               84.95|                      153|                        4|                    5|          true|                       3|                     162.0|                false|           NULL|                  NULL|              NULL|      NULL|                 2|\n",
            "| MC_000001|  Industrial_Chiller|             2032|            74966|        58.32|        14.99|   77.04|        100.0|            62.13|              154.61|                      136|                        5|                    2|          true|                       4|                     147.0|                false|           NULL|                  NULL|             40.92|      NULL|                 2|\n",
            "| MC_000002|      Pick_and_Place|             2003|            94006|        49.63|        23.78|   69.08|        42.96|            35.96|                51.9|                      258|                        1|                    1|          true|                       6|                       0.0|                 true|           NULL|                  NULL|              NULL|      NULL|                 2|\n",
            "| MC_000003|       Vision_System|             2007|            76637|        63.73|        12.38|   85.58|         94.9|            48.94|               75.61|                       43|                        4|                    1|         false|                       4|                     161.0|                false|           NULL|                  NULL|              NULL|      NULL|                 0|\n",
            "| MC_000004|      Shuttle_System|             2016|            20870|        42.77|         4.42|   96.72|        47.56|            53.78|              224.93|                      346|                        4|                    2|         false|                       1|                     765.0|                false|           NULL|                  NULL|              NULL|      NULL|                 0|\n",
            "| MC_000005|             Labeler|             2001|            69956|        53.58|        14.31|   54.79|        39.97|            85.49|              105.33|                      257|                        6|                    1|         false|                       0|                     163.0|                false|           NULL|                  NULL|              NULL|      NULL|                 0|\n",
            "| MC_000006|Automated_Screwdr...|             2025|             2578|        62.44|         8.42|   97.15|        80.57|            19.88|              207.15|                      317|                        5|                    2|         false|                       1|                     908.0|                false|           NULL|                  NULL|              NULL|      NULL|                 0|\n",
            "| MC_000007|Automated_Screwdr...|             2005|            39895|        27.28|        16.09|   38.66|        87.98|            38.66|              122.53|                      177|                        7|                    0|         false|                       6|                     467.0|                false|           NULL|                  NULL|              NULL|      NULL|                 0|\n",
            "| MC_000008|      Shrink_Wrapper|             2020|            19992|        69.31|         9.69|   82.15|        62.04|            41.63|              145.71|                      338|                        1|                    3|          true|                       4|                     794.0|                false|           NULL|                  NULL|              NULL|      NULL|                 0|\n",
            "| MC_000009|      Shrink_Wrapper|             2029|            13151|        69.18|         13.1|   84.82|        38.36|            73.15|              178.91|                      365|                        4|                    1|         false|                       6|                     925.0|                false|           NULL|                  NULL|              NULL|      NULL|                 0|\n",
            "| MC_000010|        Laser_Cutter|             2020|            72283|        32.98|        12.23|   86.55|        74.77|            83.13|               17.82|                      251|                        7|                    3|         false|                       3|                     149.0|                false|          71.55|                  NULL|              NULL|      NULL|                 0|\n",
            "| MC_000011|                 CMM|             2000|            89347|        61.94|        13.94|   79.59|        66.79|            26.64|               -2.52|                      285|                        7|                    3|         false|                       3|                      22.0|                false|           NULL|                  NULL|              NULL|      NULL|                 0|\n",
            "| MC_000012|           CNC_Lathe|             2014|            82712|        44.55|         3.88|   85.06|        78.13|            76.59|              165.29|                      108|                        2|                    1|         false|                       1|                     232.0|                false|           NULL|                  NULL|             39.16|      NULL|                 0|\n",
            "| MC_000013|      Shrink_Wrapper|             2016|            22062|        78.99|        -1.39|    92.5|        81.43|            55.51|              154.03|                      181|                        4|                    2|         false|                       3|                     800.0|                false|           NULL|                  NULL|              NULL|      NULL|                 0|\n",
            "| MC_000014|               Dryer|             2003|            79413|        31.97|         9.52|   80.43|        61.93|            49.13|              278.77|                       54|                        7|                    3|         false|                       5|                     145.0|                false|           NULL|                  NULL|              NULL|      NULL|                 0|\n",
            "| MC_000015|           CNC_Lathe|             2003|            69447|        69.86|          8.2|   70.11|        36.23|            91.96|               60.51|                      129|                        6|                    2|          true|                       0|                     269.0|                false|           NULL|                  NULL|             33.33|      NULL|                 2|\n",
            "| MC_000016|       Vision_System|             2035|            36816|        72.37|        16.06|   91.93|        56.57|            84.42|              134.12|                      233|                        4|                    0|         false|                       0|                     611.0|                false|           NULL|                  NULL|              NULL|      NULL|                 0|\n",
            "| MC_000017|    Valve_Controller|             2005|            29288|         61.1|         9.74|   75.78|        82.27|            65.16|               94.16|                      257|                        7|                    1|         false|                       1|                     747.0|                false|           NULL|                  NULL|              NULL|      NULL|                 0|\n",
            "| MC_000018|             Furnace|             2017|            54071|         53.1|         3.76|   79.14|        79.12|            45.76|               60.37|                       78|                        7|                    2|          true|                       0|                     433.0|                false|           NULL|                  NULL|              NULL|    528.08|                 4|\n",
            "| MC_000019|                 CMM|             2022|            77603|        67.85|        16.67|   66.13|        100.0|            51.04|              150.24|                       36|                        2|                    2|         false|                       2|                     163.0|                false|           NULL|                  NULL|              NULL|      NULL|                 0|\n",
            "+----------+--------------------+-----------------+-----------------+-------------+-------------+--------+-------------+-----------------+--------------------+-------------------------+-------------------------+---------------------+--------------+------------------------+--------------------------+---------------------+---------------+----------------------+------------------+----------+------------------+\n",
            "only showing top 20 rows\n",
            "\n"
          ]
        }
      ]
    },
    {
      "cell_type": "code",
      "source": [
        "df.printSchema()"
      ],
      "metadata": {
        "colab": {
          "base_uri": "https://localhost:8080/"
        },
        "id": "yjCGQ-MmuNWI",
        "outputId": "715dd9d9-7ed2-439f-dcd1-133b67650b6f"
      },
      "execution_count": null,
      "outputs": [
        {
          "output_type": "stream",
          "name": "stdout",
          "text": [
            "root\n",
            " |-- Machine_ID: string (nullable = true)\n",
            " |-- Machine_Type: string (nullable = true)\n",
            " |-- Installation_Year: integer (nullable = true)\n",
            " |-- Operational_Hours: integer (nullable = true)\n",
            " |-- Temperature_C: double (nullable = true)\n",
            " |-- Vibration_mms: double (nullable = true)\n",
            " |-- Sound_dB: double (nullable = true)\n",
            " |-- Oil_Level_pct: double (nullable = true)\n",
            " |-- Coolant_Level_pct: double (nullable = true)\n",
            " |-- Power_Consumption_kW: double (nullable = true)\n",
            " |-- Last_Maintenance_Days_Ago: integer (nullable = true)\n",
            " |-- Maintenance_History_Count: integer (nullable = true)\n",
            " |-- Failure_History_Count: integer (nullable = true)\n",
            " |-- AI_Supervision: boolean (nullable = true)\n",
            " |-- Error_Codes_Last_30_Days: integer (nullable = true)\n",
            " |-- Remaining_Useful_Life_days: double (nullable = true)\n",
            " |-- Failure_Within_7_Days: boolean (nullable = true)\n",
            " |-- Laser_Intensity: double (nullable = true)\n",
            " |-- Hydraulic_Pressure_bar: double (nullable = true)\n",
            " |-- Coolant_Flow_L_min: double (nullable = true)\n",
            " |-- Heat_Index: double (nullable = true)\n",
            " |-- AI_Override_Events: integer (nullable = true)\n",
            "\n"
          ]
        }
      ]
    },
    {
      "cell_type": "code",
      "source": [
        "df.columns"
      ],
      "metadata": {
        "colab": {
          "base_uri": "https://localhost:8080/"
        },
        "id": "icDDDMlwuPej",
        "outputId": "d598e6ce-0aab-49f2-9a20-1c5c85fcce3d"
      },
      "execution_count": null,
      "outputs": [
        {
          "output_type": "execute_result",
          "data": {
            "text/plain": [
              "['Machine_ID',\n",
              " 'Machine_Type',\n",
              " 'Installation_Year',\n",
              " 'Operational_Hours',\n",
              " 'Temperature_C',\n",
              " 'Vibration_mms',\n",
              " 'Sound_dB',\n",
              " 'Oil_Level_pct',\n",
              " 'Coolant_Level_pct',\n",
              " 'Power_Consumption_kW',\n",
              " 'Last_Maintenance_Days_Ago',\n",
              " 'Maintenance_History_Count',\n",
              " 'Failure_History_Count',\n",
              " 'AI_Supervision',\n",
              " 'Error_Codes_Last_30_Days',\n",
              " 'Remaining_Useful_Life_days',\n",
              " 'Failure_Within_7_Days',\n",
              " 'Laser_Intensity',\n",
              " 'Hydraulic_Pressure_bar',\n",
              " 'Coolant_Flow_L_min',\n",
              " 'Heat_Index',\n",
              " 'AI_Override_Events']"
            ]
          },
          "metadata": {},
          "execution_count": 7
        }
      ]
    },
    {
      "cell_type": "code",
      "source": [
        "row_count = df.count()\n",
        "cloumn_count = len(df.columns)\n",
        "print('shape :' ,(row_count, cloumn_count))"
      ],
      "metadata": {
        "colab": {
          "base_uri": "https://localhost:8080/"
        },
        "id": "gaUrrgieuR2l",
        "outputId": "e11cdd4c-18c9-473d-db9d-343759ee8b2c"
      },
      "execution_count": null,
      "outputs": [
        {
          "output_type": "stream",
          "name": "stdout",
          "text": [
            "shape : (500000, 22)\n"
          ]
        }
      ]
    },
    {
      "cell_type": "code",
      "source": [
        "df = df.drop('Machine_ID')"
      ],
      "metadata": {
        "id": "j_S3BalIuU9U"
      },
      "execution_count": null,
      "outputs": []
    },
    {
      "cell_type": "code",
      "source": [
        "df = df.dropDuplicates()"
      ],
      "metadata": {
        "id": "aFRZxIgGuYox"
      },
      "execution_count": null,
      "outputs": []
    },
    {
      "cell_type": "code",
      "source": [
        "row_count = df.count()\n",
        "cloumn_count = len(df.columns)\n",
        "print('shape :' ,(row_count, cloumn_count))"
      ],
      "metadata": {
        "colab": {
          "base_uri": "https://localhost:8080/"
        },
        "id": "UqgCP2NRua-e",
        "outputId": "5fab9ae9-fd9f-4600-e68c-6e7494a6a284"
      },
      "execution_count": null,
      "outputs": [
        {
          "output_type": "stream",
          "name": "stdout",
          "text": [
            "shape : (500000, 21)\n"
          ]
        }
      ]
    },
    {
      "cell_type": "code",
      "source": [
        "from pyspark.sql.types import IntegerType, DoubleType, FloatType, StringType\n",
        "from pyspark.sql.functions import col, mean, sum, isnan, when\n",
        "from pyspark.ml.feature import Imputer"
      ],
      "metadata": {
        "id": "DKECKK1Eucd7"
      },
      "execution_count": null,
      "outputs": []
    },
    {
      "cell_type": "code",
      "source": [
        "# Identify numeric and categorical columns\n",
        "numeric_cols = [f.name for f in df.schema.fields if isinstance(f.dataType, (IntegerType, DoubleType, FloatType))]\n",
        "categorical_cols = [f.name for f in df.schema.fields if isinstance(f.dataType, StringType)]"
      ],
      "metadata": {
        "id": "RqcU_w9duic8"
      },
      "execution_count": null,
      "outputs": []
    },
    {
      "cell_type": "code",
      "source": [
        "print(numeric_cols)\n",
        "print(categorical_cols)"
      ],
      "metadata": {
        "colab": {
          "base_uri": "https://localhost:8080/"
        },
        "id": "Onl3rSUaulga",
        "outputId": "05be6249-cc4d-4925-cc04-2c63f6eea3ed"
      },
      "execution_count": null,
      "outputs": [
        {
          "output_type": "stream",
          "name": "stdout",
          "text": [
            "['Installation_Year', 'Operational_Hours', 'Temperature_C', 'Vibration_mms', 'Sound_dB', 'Oil_Level_pct', 'Coolant_Level_pct', 'Power_Consumption_kW', 'Last_Maintenance_Days_Ago', 'Maintenance_History_Count', 'Failure_History_Count', 'Error_Codes_Last_30_Days', 'Remaining_Useful_Life_days', 'Laser_Intensity', 'Hydraulic_Pressure_bar', 'Coolant_Flow_L_min', 'Heat_Index', 'AI_Override_Events']\n",
            "['Machine_Type']\n"
          ]
        }
      ]
    },
    {
      "cell_type": "code",
      "source": [
        "# Create a list of expressions to count nulls and NaNs in each column\n",
        "null_nan_counts = []\n",
        "for c in df.columns:\n",
        "    if c in numeric_cols:\n",
        "        null_nan_counts.append(\n",
        "            sum(when(col(c).isNull() | isnan(c), 1).otherwise(0)).alias(c)\n",
        "        )\n",
        "    else:\n",
        "        null_nan_counts.append(\n",
        "            sum(when(col(c).isNull(), 1).otherwise(0)).alias(c)\n",
        "        )\n",
        "\n",
        "# Execute the aggregation to get the counts\n",
        "null_nan_counts_df = df.agg(*null_nan_counts)\n",
        "\n",
        "# Display the results\n",
        "null_nan_counts_df.show()"
      ],
      "metadata": {
        "colab": {
          "base_uri": "https://localhost:8080/"
        },
        "id": "gZAXhJtLuoTt",
        "outputId": "bbda1790-894f-43c3-e42b-0bd60e0d8649"
      },
      "execution_count": null,
      "outputs": [
        {
          "output_type": "stream",
          "name": "stdout",
          "text": [
            "+------------+-----------------+-----------------+-------------+-------------+--------+-------------+-----------------+--------------------+-------------------------+-------------------------+---------------------+--------------+------------------------+--------------------------+---------------------+---------------+----------------------+------------------+----------+------------------+\n",
            "|Machine_Type|Installation_Year|Operational_Hours|Temperature_C|Vibration_mms|Sound_dB|Oil_Level_pct|Coolant_Level_pct|Power_Consumption_kW|Last_Maintenance_Days_Ago|Maintenance_History_Count|Failure_History_Count|AI_Supervision|Error_Codes_Last_30_Days|Remaining_Useful_Life_days|Failure_Within_7_Days|Laser_Intensity|Hydraulic_Pressure_bar|Coolant_Flow_L_min|Heat_Index|AI_Override_Events|\n",
            "+------------+-----------------+-----------------+-------------+-------------+--------+-------------+-----------------+--------------------+-------------------------+-------------------------+---------------------+--------------+------------------------+--------------------------+---------------------+---------------+----------------------+------------------+----------+------------------+\n",
            "|           0|                0|                0|            0|            0|       0|            0|                0|                   0|                        0|                        0|                    0|             0|                       0|                         0|                    0|         484844|                469660|            454376|    454786|                 0|\n",
            "+------------+-----------------+-----------------+-------------+-------------+--------+-------------+-----------------+--------------------+-------------------------+-------------------------+---------------------+--------------+------------------------+--------------------------+---------------------+---------------+----------------------+------------------+----------+------------------+\n",
            "\n"
          ]
        }
      ]
    },
    {
      "cell_type": "code",
      "source": [
        "# Impute numeric columns with the mean\n",
        "imputer = Imputer(inputCols=numeric_cols, outputCols=numeric_cols, strategy=\"mean\")\n",
        "df = imputer.fit(df).transform(df)"
      ],
      "metadata": {
        "id": "P_pNcJUGu6Z3"
      },
      "execution_count": null,
      "outputs": []
    },
    {
      "cell_type": "code",
      "source": [
        "null_nan_counts = []\n",
        "for c in df.columns:\n",
        "    if c in numeric_cols:\n",
        "        null_nan_counts.append(\n",
        "            sum(when(col(c).isNull() | isnan(c), 1).otherwise(0)).alias(c)\n",
        "        )\n",
        "    else:\n",
        "        null_nan_counts.append(\n",
        "            sum(when(col(c).isNull(), 1).otherwise(0)).alias(c)\n",
        "        )\n",
        "\n",
        "null_nan_counts_df = df.agg(*null_nan_counts)\n",
        "\n",
        "null_nan_counts_df.show()"
      ],
      "metadata": {
        "colab": {
          "base_uri": "https://localhost:8080/"
        },
        "id": "bVmm7TbUu-24",
        "outputId": "ce4c2ec3-686a-4d1a-a3e5-7d93d4e3d8cf"
      },
      "execution_count": null,
      "outputs": [
        {
          "output_type": "stream",
          "name": "stdout",
          "text": [
            "+------------+-----------------+-----------------+-------------+-------------+--------+-------------+-----------------+--------------------+-------------------------+-------------------------+---------------------+--------------+------------------------+--------------------------+---------------------+---------------+----------------------+------------------+----------+------------------+\n",
            "|Machine_Type|Installation_Year|Operational_Hours|Temperature_C|Vibration_mms|Sound_dB|Oil_Level_pct|Coolant_Level_pct|Power_Consumption_kW|Last_Maintenance_Days_Ago|Maintenance_History_Count|Failure_History_Count|AI_Supervision|Error_Codes_Last_30_Days|Remaining_Useful_Life_days|Failure_Within_7_Days|Laser_Intensity|Hydraulic_Pressure_bar|Coolant_Flow_L_min|Heat_Index|AI_Override_Events|\n",
            "+------------+-----------------+-----------------+-------------+-------------+--------+-------------+-----------------+--------------------+-------------------------+-------------------------+---------------------+--------------+------------------------+--------------------------+---------------------+---------------+----------------------+------------------+----------+------------------+\n",
            "|           0|                0|                0|            0|            0|       0|            0|                0|                   0|                        0|                        0|                    0|             0|                       0|                         0|                    0|              0|                     0|                 0|         0|                 0|\n",
            "+------------+-----------------+-----------------+-------------+-------------+--------+-------------+-----------------+--------------------+-------------------------+-------------------------+---------------------+--------------+------------------------+--------------------------+---------------------+---------------+----------------------+------------------+----------+------------------+\n",
            "\n"
          ]
        }
      ]
    },
    {
      "cell_type": "code",
      "source": [
        "from pyspark.sql import functions as F"
      ],
      "metadata": {
        "id": "788p0vfkxNyn"
      },
      "execution_count": null,
      "outputs": []
    },
    {
      "cell_type": "code",
      "source": [
        "max_installation_year = df.agg(F.max(\"Installation_Year\")).collect()[0][0]\n",
        "print(f\"Maximum Installation Year: {max_installation_year}\")"
      ],
      "metadata": {
        "colab": {
          "base_uri": "https://localhost:8080/"
        },
        "id": "rKZkdgEPymqD",
        "outputId": "4192f11c-4786-4c1a-eaf1-21f97f431c77"
      },
      "execution_count": null,
      "outputs": [
        {
          "output_type": "stream",
          "name": "stdout",
          "text": [
            "Maximum Installation Year: 2040\n"
          ]
        }
      ]
    },
    {
      "cell_type": "code",
      "source": [
        "# 1. Calculate Machine Age from Installation_Year\n",
        "df = df.withColumn(\"Machine_Age\", F.lit(2040) - F.col(\"Installation_Year\"))"
      ],
      "metadata": {
        "id": "3Vp5QS9XvJMN"
      },
      "execution_count": null,
      "outputs": []
    },
    {
      "cell_type": "code",
      "source": [
        "# 2. Combine oil and coolant level to infer maintenance status (simple average)\n",
        "df = df.withColumn(\"Avg_Fluid_Level\", (F.col(\"Oil_Level_pct\") + F.col(\"Coolant_Level_pct\")) / 2)"
      ],
      "metadata": {
        "id": "Gpn7LR0zxX28"
      },
      "execution_count": null,
      "outputs": []
    },
    {
      "cell_type": "code",
      "source": [
        "# 3. Flag if AI supervision is active (boolean to int)\n",
        "df = df.withColumn(\"AI_Supervision_Flag\", F.col(\"AI_Supervision\").cast(\"int\"))"
      ],
      "metadata": {
        "id": "OoG5hTAXx3XB"
      },
      "execution_count": null,
      "outputs": []
    },
    {
      "cell_type": "code",
      "source": [
        "# 4. Encode categorical variable 'Machine_Type' (StringIndexer)\n",
        "from pyspark.ml.feature import StringIndexer, OneHotEncoder\n",
        "indexer = StringIndexer(inputCol=\"Machine_Type\", outputCol=\"Machine_Type_Index\")\n",
        "df = indexer.fit(df).transform(df)\n",
        "encoder = OneHotEncoder(inputCols=[\"Machine_Type_Index\"], outputCols=[\"Machine_Type_OHE\"])\n",
        "df = encoder.fit(df).transform(df)"
      ],
      "metadata": {
        "id": "BnY-mfF8zBHd"
      },
      "execution_count": null,
      "outputs": []
    },
    {
      "cell_type": "code",
      "source": [
        "df.show()"
      ],
      "metadata": {
        "colab": {
          "base_uri": "https://localhost:8080/"
        },
        "id": "Vjc8w3Wgx9yT",
        "outputId": "a4d6820e-a7c7-4288-eca4-3dae936bdd17"
      },
      "execution_count": null,
      "outputs": [
        {
          "output_type": "stream",
          "name": "stdout",
          "text": [
            "+--------------------+-----------------+-----------------+-------------+-------------+--------+-------------+-----------------+--------------------+-------------------------+-------------------------+---------------------+--------------+------------------------+--------------------------+---------------------+-----------------+----------------------+------------------+-----------------+------------------+-----------+------------------+-------------------+------------------+----------------+\n",
            "|        Machine_Type|Installation_Year|Operational_Hours|Temperature_C|Vibration_mms|Sound_dB|Oil_Level_pct|Coolant_Level_pct|Power_Consumption_kW|Last_Maintenance_Days_Ago|Maintenance_History_Count|Failure_History_Count|AI_Supervision|Error_Codes_Last_30_Days|Remaining_Useful_Life_days|Failure_Within_7_Days|  Laser_Intensity|Hydraulic_Pressure_bar|Coolant_Flow_L_min|       Heat_Index|AI_Override_Events|Machine_Age|   Avg_Fluid_Level|AI_Supervision_Flag|Machine_Type_Index|Machine_Type_OHE|\n",
            "+--------------------+-----------------+-----------------+-------------+-------------+--------+-------------+-----------------+--------------------+-------------------------+-------------------------+---------------------+--------------+------------------------+--------------------------+---------------------+-----------------+----------------------+------------------+-----------------+------------------+-----------+------------------+-------------------+------------------+----------------+\n",
            "|       Conveyor_Belt|             2034|            75075|        58.07|        11.67|   80.29|        93.59|            52.42|              114.39|                      159|                       11|                    5|          true|                       2|                     232.0|                false|74.99551332805484|    119.91751351351408|39.984794406452544|499.7609662936243|                 5|          6|            73.005|                  1|              29.0| (32,[29],[1.0])|\n",
            "|          Palletizer|             2032|            10544|        29.29|        10.86|   86.49|        85.16|            58.48|              312.88|                      134|                        8|                    0|         false|                       0|                     871.0|                false|74.99551332805484|    119.91751351351408|39.984794406452544|499.7609662936243|                 0|          8|             71.82|                  0|              17.0| (32,[17],[1.0])|\n",
            "|      Shuttle_System|             2030|            63783|        56.84|        10.63|    58.9|        46.86|            29.25|              121.98|                       33|                        5|                    0|         false|                       3|                     348.0|                false|74.99551332805484|    119.91751351351408|39.984794406452544|499.7609662936243|                 0|         10|            38.055|                  0|               1.0|  (32,[1],[1.0])|\n",
            "|                Pump|             2004|            27373|        64.73|         8.06|   71.28|        73.11|            57.02|              139.24|                        0|                        5|                    1|         false|                       5|                     745.0|                false|74.99551332805484|    119.91751351351408|39.984794406452544|499.7609662936243|                 0|         36|            65.065|                  0|               7.0|  (32,[7],[1.0])|\n",
            "|      Pick_and_Place|             2040|            87687|        88.02|        10.13|   76.97|        86.12|            100.0|              192.83|                      269|                        1|                    3|         false|                       1|                     110.0|                false|74.99551332805484|    119.91751351351408|39.984794406452544|499.7609662936243|                 0|          0|             93.06|                  0|              20.0| (32,[20],[1.0])|\n",
            "|  Industrial_Chiller|             2026|            36940|         51.3|         4.66|   78.82|        79.26|            85.28|              124.28|                      260|                        3|                    1|         false|                       2|                     610.0|                false|74.99551332805484|    119.91751351351408|             45.31|499.7609662936243|                 0|         14| 82.27000000000001|                  0|               5.0|  (32,[5],[1.0])|\n",
            "|               Crane|             2014|            47032|        69.52|        14.92|   70.26|        47.45|            77.65|               57.15|                      284|                        4|                    0|         false|                       4|                     503.0|                false|74.99551332805484|    119.91751351351408|39.984794406452544|499.7609662936243|                 0|         26|62.550000000000004|                  0|               2.0|  (32,[2],[1.0])|\n",
            "|                Pump|             2002|            64338|        65.28|         9.39|   88.02|        90.55|             42.7|              240.04|                      348|                       11|                    3|         false|                       4|                     331.0|                false|74.99551332805484|    119.91751351351408|39.984794406452544|499.7609662936243|                 0|         38|            66.625|                  0|               7.0|  (32,[7],[1.0])|\n",
            "|Automated_Screwdr...|             2021|            30656|        41.14|         9.26|   77.97|        57.79|            62.42|              -53.57|                      261|                        5|                    2|         false|                       7|                     653.0|                false|74.99551332805484|    119.91751351351408|39.984794406452544|499.7609662936243|                 0|         19|60.105000000000004|                  0|              10.0| (32,[10],[1.0])|\n",
            "|  Industrial_Chiller|             2033|            80422|        78.88|         10.1|   80.09|        77.47|            45.79|              243.33|                      158|                        4|                    1|          true|                       9|                     170.0|                false|74.99551332805484|    119.91751351351408|             38.85|499.7609662936243|                 4|          7|61.629999999999995|                  1|               5.0|  (32,[5],[1.0])|\n",
            "|       Vision_System|             2039|            68233|        81.74|        16.31|    72.9|        100.0|            72.76|               15.95|                      104|                        9|                    1|         false|                       2|                     206.0|                false|74.99551332805484|    119.91751351351408|39.984794406452544|499.7609662936243|                 0|          1|             86.38|                  0|              13.0| (32,[13],[1.0])|\n",
            "|          Compressor|             2013|            58468|        56.35|         9.68|   83.01|        72.45|            73.58|              112.13|                      229|                        6|                    2|          true|                       1|                     336.0|                false|74.99551332805484|    119.91751351351408|39.984794406452544|499.7609662936243|                 0|         27|            73.015|                  1|              15.0| (32,[15],[1.0])|\n",
            "|      Heat_Exchanger|             2020|            95828|        85.74|         8.09|   71.72|        89.82|            76.16|               91.93|                      139|                        6|                    2|         false|                       2|                       6.0|                 true|74.99551332805484|    119.91751351351408|39.984794406452544|           520.78|                 0|         20|             82.99|                  0|              16.0| (32,[16],[1.0])|\n",
            "|       Carton_Former|             2018|            16757|        83.38|         2.36|   62.06|        94.05|            69.64|              -41.08|                       96|                        9|                    3|         false|                       4|                     809.0|                false|74.99551332805484|    119.91751351351408|39.984794406452544|499.7609662936243|                 0|         22|            81.845|                  0|              21.0| (32,[21],[1.0])|\n",
            "|       Vacuum_Packer|             2033|             4489|        56.57|         9.21|   71.01|        37.39|            74.99|              304.32|                      124|                        4|                    2|         false|                       7|                     835.0|                false|74.99551332805484|    119.91751351351408|39.984794406452544|499.7609662936243|                 0|          7|             56.19|                  0|               8.0|  (32,[8],[1.0])|\n",
            "|      Heat_Exchanger|             2032|            53152|        35.49|        12.75|   82.32|        53.48|            91.25|              137.73|                      254|                        6|                    1|         false|                       1|                     464.0|                false|74.99551332805484|    119.91751351351408|39.984794406452544|           417.76|                 0|          8|            72.365|                  0|              16.0| (32,[16],[1.0])|\n",
            "|       Carton_Former|             2021|             9216|        52.94|        10.92|   82.78|        69.72|            60.37|              181.19|                       29|                        8|                    0|         false|                       6|                     930.0|                false|74.99551332805484|    119.91751351351408|39.984794406452544|499.7609662936243|                 0|         19|            65.045|                  0|              21.0| (32,[21],[1.0])|\n",
            "|             Labeler|             2039|            76597|        83.46|        12.21|   91.41|        100.0|             77.1|              347.13|                       52|                        4|                    4|         false|                       2|                     147.0|                false|74.99551332805484|    119.91751351351408|39.984794406452544|499.7609662936243|                 0|          1|             88.55|                  0|               3.0|  (32,[3],[1.0])|\n",
            "|     Hydraulic_Press|             2026|            43780|        36.63|        20.19|   76.84|        53.13|            86.65|               69.64|                      214|                        6|                    2|          true|                       2|                     444.0|                false|74.99551332805484|                128.57|39.984794406452544|499.7609662936243|                 1|         14|             69.89|                  1|              18.0| (32,[18],[1.0])|\n",
            "|       Vision_System|             2024|            64009|        78.28|         9.45|   44.49|        77.33|            38.64|              139.87|                      312|                       10|                    2|         false|                       4|                     265.0|                false|74.99551332805484|    119.91751351351408|39.984794406452544|499.7609662936243|                 0|         16|            57.985|                  0|              13.0| (32,[13],[1.0])|\n",
            "+--------------------+-----------------+-----------------+-------------+-------------+--------+-------------+-----------------+--------------------+-------------------------+-------------------------+---------------------+--------------+------------------------+--------------------------+---------------------+-----------------+----------------------+------------------+-----------------+------------------+-----------+------------------+-------------------+------------------+----------------+\n",
            "only showing top 20 rows\n",
            "\n"
          ]
        }
      ]
    },
    {
      "cell_type": "code",
      "source": [
        "# To drop multiple columns\n",
        "columns_to_drop = [\"Machine_Type\", \"Oil_Level_pct\", \"Coolant_Level_pct\", \"AI_Supervision\"]\n",
        "df = df.drop(*columns_to_drop)"
      ],
      "metadata": {
        "id": "89HREBSWyACc"
      },
      "execution_count": null,
      "outputs": []
    },
    {
      "cell_type": "code",
      "source": [
        "cloumn_count = len(df.columns)\n",
        "cloumn_count"
      ],
      "metadata": {
        "colab": {
          "base_uri": "https://localhost:8080/"
        },
        "id": "9zKDoudaJK0h",
        "outputId": "479e0874-459e-4d6d-a537-39d4997fbdfa"
      },
      "execution_count": null,
      "outputs": [
        {
          "output_type": "execute_result",
          "data": {
            "text/plain": [
              "22"
            ]
          },
          "metadata": {},
          "execution_count": 26
        }
      ]
    },
    {
      "cell_type": "code",
      "source": [
        "# Defining the path to save the CSV file\n",
        "output_path = \"/content/preprocessed_data.csv\"\n",
        "\n",
        "# Drop the unsupported column before saving to CSV\n",
        "df = df.drop(\"Machine_Type_OHE\")\n",
        "\n",
        "# Using 'header=True' to include the header row in the CSV\n",
        "# Using 'mode=\"overwrite\"' to overwrite the file if it already exists\n",
        "df.write.csv(output_path, header=True, mode=\"overwrite\")\n",
        "\n",
        "print(f\"DataFrame saved to {output_path}\")"
      ],
      "metadata": {
        "id": "r0UItTIxKDj3"
      },
      "execution_count": null,
      "outputs": []
    },
    {
      "cell_type": "code",
      "source": [],
      "metadata": {
        "id": "8ym-3QrELvKp"
      },
      "execution_count": null,
      "outputs": []
    }
  ]
}